{
  "cells": [
    {
      "cell_type": "code",
      "execution_count": 57,
      "metadata": {
        "id": "TYezotKMPmvh"
      },
      "outputs": [],
      "source": [
        "ALPACA_API_KEY = \"PKVQE7BUOAC40D5OSCHH\"\n",
        "ALPACA_SECRET_KEY = \"DfXHYuZpMlmON3mcHPVTQDWZTnnMyt95PyaDtlAF\""
      ]
    },
    {
      "cell_type": "code",
      "execution_count": 58,
      "metadata": {
        "id": "IL-HhUsndUYw"
      },
      "outputs": [],
      "source": [
        "current_ticker = 'UBER'"
      ]
    },
    {
      "cell_type": "code",
      "execution_count": 59,
      "metadata": {
        "id": "b_1c32gcdXYr"
      },
      "outputs": [],
      "source": [
        "company_ticker = {\n",
        "    'SQ': {'start-date': \"2019-05-01\", 'end-date': '2021-06-27'},\n",
        "    'ENPH': {'start-date': \"2019-05-01\", 'end-date': '2021-06-27'},\n",
        "    'UBER': {'start-date': \"2020-05-01\", 'end-date': '2021-06-27'}\n",
        "}"
      ]
    },
    {
      "cell_type": "code",
      "execution_count": 60,
      "metadata": {
        "id": "WrkSkBA9PvvJ"
      },
      "outputs": [],
      "source": [
        "from sklearn.preprocessing import MinMaxScaler\n",
        "import alpaca_trade_api as tradeapi\n",
        "import pandas as pd\n",
        "import numpy as np\n",
        "import time\n",
        "import torch\n",
        "import torch.nn as nn\n",
        "import matplotlib.pyplot as plt"
      ]
    },
    {
      "cell_type": "code",
      "execution_count": 61,
      "metadata": {
        "id": "LqqycAMpPyft"
      },
      "outputs": [],
      "source": [
        "api = tradeapi.REST(\n",
        "   ALPACA_API_KEY,\n",
        "   ALPACA_SECRET_KEY,\n",
        "   api_version = \"v2\"\n",
        ")"
      ]
    },
    {
      "cell_type": "code",
      "execution_count": 62,
      "metadata": {
        "id": "tDw-qgfNRXK9"
      },
      "outputs": [],
      "source": [
        "def split_data(X, Y, lookback, split_ratio):\r\n",
        "    \r\n",
        "    data = []\r\n",
        "\r\n",
        "    for index in range(len(X) - lookback): \r\n",
        "        data.append(X[index: index + lookback])\r\n",
        "\r\n",
        "    data = np.array(data);\r\n",
        "    test_set_size = int(np.round(split_ratio * data.shape[0]))\r\n",
        "    train_set_size = data.shape[0] - (test_set_size)\r\n",
        "    \r\n",
        "    print(data.shape, Y.shape)\r\n",
        "\r\n",
        "    x_train = data[:train_set_size,:]\r\n",
        "    y_train = Y[:train_set_size,:]\r\n",
        "    \r\n",
        "    x_test = data[train_set_size:,:]\r\n",
        "    y_test = Y[train_set_size+lookback:,:]\r\n",
        "    \r\n",
        "    return [x_train, y_train, x_test, y_test]"
      ]
    },
    {
      "cell_type": "code",
      "execution_count": 63,
      "metadata": {
        "id": "J6QmbXe3P4aZ"
      },
      "outputs": [],
      "source": [
        "df_tickers = {}\n",
        "for ticker, dates in company_ticker.items():\n",
        "  # Set timeframe to '1D'\n",
        "  timeframe = \"1D\"\n",
        "  # Set start and end datetimes between now and 3 years ago.\n",
        "  start_date = pd.Timestamp(dates['start-date'], tz=\"America/New_York\").isoformat()\n",
        "  end_date = pd.Timestamp(dates['end-date'], tz=\"America/New_York\").isoformat()\n",
        "  # Get 3 year's worth of historical price data for Microsoft and Coca-Cola\n",
        "  df_ticker = api.get_barset(\n",
        "      [ticker],\n",
        "      timeframe,\n",
        "      start=start_date,\n",
        "      end=end_date,\n",
        "      limit=1000,\n",
        "  ).df\n",
        "  df_tickers[ticker] = df_ticker"
      ]
    },
    {
      "cell_type": "code",
      "execution_count": 64,
      "metadata": {
        "id": "2mgKZ3TsQuiZ"
      },
      "outputs": [],
      "source": [
        "df = df_tickers[current_ticker][current_ticker]"
      ]
    },
    {
      "cell_type": "code",
      "execution_count": 79,
      "metadata": {},
      "outputs": [
        {
          "data": {
            "text/html": [
              "<div>\n",
              "<style scoped>\n",
              "    .dataframe tbody tr th:only-of-type {\n",
              "        vertical-align: middle;\n",
              "    }\n",
              "\n",
              "    .dataframe tbody tr th {\n",
              "        vertical-align: top;\n",
              "    }\n",
              "\n",
              "    .dataframe thead th {\n",
              "        text-align: right;\n",
              "    }\n",
              "</style>\n",
              "<table border=\"1\" class=\"dataframe\">\n",
              "  <thead>\n",
              "    <tr style=\"text-align: right;\">\n",
              "      <th></th>\n",
              "      <th>open</th>\n",
              "      <th>high</th>\n",
              "      <th>low</th>\n",
              "      <th>close</th>\n",
              "      <th>volume</th>\n",
              "    </tr>\n",
              "    <tr>\n",
              "      <th>time</th>\n",
              "      <th></th>\n",
              "      <th></th>\n",
              "      <th></th>\n",
              "      <th></th>\n",
              "      <th></th>\n",
              "    </tr>\n",
              "  </thead>\n",
              "  <tbody>\n",
              "    <tr>\n",
              "      <th>2020-05-01 00:00:00-04:00</th>\n",
              "      <td>29.13</td>\n",
              "      <td>29.7200</td>\n",
              "      <td>28.325</td>\n",
              "      <td>28.39</td>\n",
              "      <td>37302772</td>\n",
              "    </tr>\n",
              "    <tr>\n",
              "      <th>2020-05-04 00:00:00-04:00</th>\n",
              "      <td>27.56</td>\n",
              "      <td>28.0700</td>\n",
              "      <td>26.580</td>\n",
              "      <td>27.42</td>\n",
              "      <td>45657236</td>\n",
              "    </tr>\n",
              "    <tr>\n",
              "      <th>2020-05-05 00:00:00-04:00</th>\n",
              "      <td>28.25</td>\n",
              "      <td>28.9088</td>\n",
              "      <td>27.440</td>\n",
              "      <td>28.08</td>\n",
              "      <td>57098898</td>\n",
              "    </tr>\n",
              "    <tr>\n",
              "      <th>2020-05-06 00:00:00-04:00</th>\n",
              "      <td>27.50</td>\n",
              "      <td>28.0600</td>\n",
              "      <td>26.810</td>\n",
              "      <td>27.85</td>\n",
              "      <td>53434735</td>\n",
              "    </tr>\n",
              "    <tr>\n",
              "      <th>2020-05-07 00:00:00-04:00</th>\n",
              "      <td>29.60</td>\n",
              "      <td>31.6500</td>\n",
              "      <td>29.580</td>\n",
              "      <td>30.89</td>\n",
              "      <td>97664400</td>\n",
              "    </tr>\n",
              "    <tr>\n",
              "      <th>...</th>\n",
              "      <td>...</td>\n",
              "      <td>...</td>\n",
              "      <td>...</td>\n",
              "      <td>...</td>\n",
              "      <td>...</td>\n",
              "    </tr>\n",
              "    <tr>\n",
              "      <th>2021-06-21 00:00:00-04:00</th>\n",
              "      <td>49.74</td>\n",
              "      <td>49.8600</td>\n",
              "      <td>47.900</td>\n",
              "      <td>48.12</td>\n",
              "      <td>27047070</td>\n",
              "    </tr>\n",
              "    <tr>\n",
              "      <th>2021-06-22 00:00:00-04:00</th>\n",
              "      <td>48.35</td>\n",
              "      <td>49.3400</td>\n",
              "      <td>47.750</td>\n",
              "      <td>49.06</td>\n",
              "      <td>16960328</td>\n",
              "    </tr>\n",
              "    <tr>\n",
              "      <th>2021-06-23 00:00:00-04:00</th>\n",
              "      <td>49.06</td>\n",
              "      <td>50.7700</td>\n",
              "      <td>49.010</td>\n",
              "      <td>50.53</td>\n",
              "      <td>18987768</td>\n",
              "    </tr>\n",
              "    <tr>\n",
              "      <th>2021-06-24 00:00:00-04:00</th>\n",
              "      <td>51.30</td>\n",
              "      <td>51.5500</td>\n",
              "      <td>50.220</td>\n",
              "      <td>50.83</td>\n",
              "      <td>11644976</td>\n",
              "    </tr>\n",
              "    <tr>\n",
              "      <th>2021-06-25 00:00:00-04:00</th>\n",
              "      <td>51.15</td>\n",
              "      <td>51.8300</td>\n",
              "      <td>50.530</td>\n",
              "      <td>51.68</td>\n",
              "      <td>15074888</td>\n",
              "    </tr>\n",
              "  </tbody>\n",
              "</table>\n",
              "<p>291 rows × 5 columns</p>\n",
              "</div>"
            ],
            "text/plain": [
              "                            open     high     low  close    volume\n",
              "time                                                              \n",
              "2020-05-01 00:00:00-04:00  29.13  29.7200  28.325  28.39  37302772\n",
              "2020-05-04 00:00:00-04:00  27.56  28.0700  26.580  27.42  45657236\n",
              "2020-05-05 00:00:00-04:00  28.25  28.9088  27.440  28.08  57098898\n",
              "2020-05-06 00:00:00-04:00  27.50  28.0600  26.810  27.85  53434735\n",
              "2020-05-07 00:00:00-04:00  29.60  31.6500  29.580  30.89  97664400\n",
              "...                          ...      ...     ...    ...       ...\n",
              "2021-06-21 00:00:00-04:00  49.74  49.8600  47.900  48.12  27047070\n",
              "2021-06-22 00:00:00-04:00  48.35  49.3400  47.750  49.06  16960328\n",
              "2021-06-23 00:00:00-04:00  49.06  50.7700  49.010  50.53  18987768\n",
              "2021-06-24 00:00:00-04:00  51.30  51.5500  50.220  50.83  11644976\n",
              "2021-06-25 00:00:00-04:00  51.15  51.8300  50.530  51.68  15074888\n",
              "\n",
              "[291 rows x 5 columns]"
            ]
          },
          "execution_count": 79,
          "metadata": {},
          "output_type": "execute_result"
        }
      ],
      "source": [
        "df"
      ]
    },
    {
      "cell_type": "code",
      "execution_count": 65,
      "metadata": {
        "colab": {
          "base_uri": "https://localhost:8080/"
        },
        "id": "cnPpty2dRBlI",
        "outputId": "c3775198-85c1-4f68-f6c9-7572926f9b20"
      },
      "outputs": [
        {
          "name": "stdout",
          "output_type": "stream",
          "text": [
            "[[2.9130000e+01 2.9720000e+01 2.8325000e+01 2.8390000e+01 3.7302772e+07]\n",
            " [2.7560000e+01 2.8070000e+01 2.6580000e+01 2.7420000e+01 4.5657236e+07]\n",
            " [2.8250000e+01 2.8908800e+01 2.7440000e+01 2.8080000e+01 5.7098898e+07]\n",
            " ...\n",
            " [4.9060000e+01 5.0770000e+01 4.9010000e+01 5.0530000e+01 1.8987768e+07]\n",
            " [5.1300000e+01 5.1550000e+01 5.0220000e+01 5.0830000e+01 1.1644976e+07]\n",
            " [5.1150000e+01 5.1830000e+01 5.0530000e+01 5.1680000e+01 1.5074888e+07]]\n"
          ]
        }
      ],
      "source": [
        "X = df.to_numpy()\n",
        "print (X)"
      ]
    },
    {
      "cell_type": "code",
      "execution_count": 66,
      "metadata": {
        "id": "ZFqK7GMQQ-Xu"
      },
      "outputs": [],
      "source": [
        "price = df[[\"close\"]]\n",
        "price_scaler = MinMaxScaler(feature_range=(-1,1))\n",
        "all_scaler = MinMaxScaler(feature_range=(-1,1))\n",
        "Y = price_scaler.fit_transform(price[\"close\"].values.reshape(-1,1))\n",
        "X = all_scaler.fit_transform(X)"
      ]
    },
    {
      "cell_type": "code",
      "execution_count": 67,
      "metadata": {
        "colab": {
          "base_uri": "https://localhost:8080/"
        },
        "id": "zxfrdhbdRTw2",
        "outputId": "993f8ed5-1724-474c-dfe8-ddc9c8ca2b62"
      },
      "outputs": [
        {
          "name": "stdout",
          "output_type": "stream",
          "text": [
            "(291, 5) (291, 1)\n"
          ]
        }
      ],
      "source": [
        "print(X.shape, Y.shape)"
      ]
    },
    {
      "cell_type": "code",
      "execution_count": 68,
      "metadata": {
        "colab": {
          "base_uri": "https://localhost:8080/"
        },
        "id": "PnJr_keVRVOo",
        "outputId": "65a42128-ecc0-4ddf-91c3-ed339b4ecfb7"
      },
      "outputs": [
        {
          "name": "stdout",
          "output_type": "stream",
          "text": [
            "(251, 40, 5) (291, 1)\n",
            "(226, 40, 5) (226, 1)\n",
            "(25, 40, 5) (25, 1)\n"
          ]
        }
      ],
      "source": [
        "lookback = 40 # sequence length\n",
        "split_ratio = 0.1\n",
        "x_train, y_train, x_test, y_test = split_data(X, Y, lookback, split_ratio)\n",
        "\n",
        "print(x_train.shape, y_train.shape)\n",
        "print(x_test.shape, y_test.shape)"
      ]
    },
    {
      "cell_type": "code",
      "execution_count": 69,
      "metadata": {
        "id": "Iw_e2x4ZRju-"
      },
      "outputs": [],
      "source": [
        "x_train = torch.from_numpy(x_train).type(torch.Tensor)\n",
        "x_test = torch.from_numpy(x_test).type(torch.Tensor)\n",
        "y_train = torch.from_numpy(y_train).type(torch.Tensor)\n",
        "y_test = torch.from_numpy(y_test).type(torch.Tensor)"
      ]
    },
    {
      "cell_type": "code",
      "execution_count": 70,
      "metadata": {
        "id": "wtaOZaJuRnEo"
      },
      "outputs": [],
      "source": [
        "input_dim = 5\n",
        "hidden_dim = 32\n",
        "num_layers = 2\n",
        "output_dim = 1\n",
        "num_epochs = 100\n",
        "learning_rate = 0.01"
      ]
    },
    {
      "cell_type": "code",
      "execution_count": 71,
      "metadata": {
        "id": "pNcA-aeyRpzb"
      },
      "outputs": [],
      "source": [
        "class MyModel(nn.Module):\n",
        "    def __init__(self, input_dim, hidden_dim, num_layers, output_dim):\n",
        "        super(MyModel, self).__init__()\n",
        "        self.hidden_dim = hidden_dim\n",
        "        self.num_layers = num_layers\n",
        "        \n",
        "        self.lstm = nn.LSTM(input_dim, hidden_dim, num_layers, batch_first=True)\n",
        "        self.fc = nn.Linear(hidden_dim, output_dim)\n",
        "    def forward(self, x):\n",
        "        h0 = torch.zeros(self.num_layers, x.size(0), self.hidden_dim).requires_grad_()\n",
        "        c0 = torch.zeros(self.num_layers, x.size(0), self.hidden_dim).requires_grad_()\n",
        "        out, (hn, cn) = self.lstm(x, (h0.detach(), c0.detach()))\n",
        "        out = self.fc(out[:, -1, :]) \n",
        "        return out"
      ]
    },
    {
      "cell_type": "code",
      "execution_count": 72,
      "metadata": {
        "id": "jvjSp999RsVj"
      },
      "outputs": [],
      "source": [
        "model = MyModel(input_dim = input_dim, hidden_dim = hidden_dim, num_layers = num_layers, output_dim = output_dim)\n",
        "loss_func = torch.nn.MSELoss(reduction='mean')\n",
        "optimizer=torch.optim.Adam(model.parameters(), lr=learning_rate)"
      ]
    },
    {
      "cell_type": "markdown",
      "metadata": {
        "id": "IP2OO0qvSmef"
      },
      "source": [
        "# The Training Loop"
      ]
    },
    {
      "cell_type": "code",
      "execution_count": 73,
      "metadata": {
        "colab": {
          "base_uri": "https://localhost:8080/"
        },
        "id": "jtKsT5awROGV",
        "outputId": "f23ac053-2e17-4788-8d36-fb05c4ced9d6"
      },
      "outputs": [
        {
          "name": "stdout",
          "output_type": "stream",
          "text": [
            "Epoch: 0\tLoss: 0.5019183158874512\n",
            "Epoch: 1\tLoss: 0.34479570388793945\n",
            "Epoch: 2\tLoss: 0.21853014826774597\n",
            "Epoch: 3\tLoss: 0.17353364825248718\n",
            "Epoch: 4\tLoss: 0.14477449655532837\n",
            "Epoch: 5\tLoss: 0.10804803669452667\n",
            "Epoch: 6\tLoss: 0.1177021786570549\n",
            "Epoch: 7\tLoss: 0.13358399271965027\n",
            "Epoch: 8\tLoss: 0.12898777425289154\n",
            "Epoch: 9\tLoss: 0.11737456917762756\n",
            "Epoch: 10\tLoss: 0.10552258044481277\n",
            "Epoch: 11\tLoss: 0.09394139796495438\n",
            "Epoch: 12\tLoss: 0.08144377171993256\n",
            "Epoch: 13\tLoss: 0.06223495304584503\n",
            "Epoch: 14\tLoss: 0.07298305630683899\n",
            "Epoch: 15\tLoss: 0.0718967542052269\n",
            "Epoch: 16\tLoss: 0.05162633955478668\n",
            "Epoch: 17\tLoss: 0.03797869384288788\n",
            "Epoch: 18\tLoss: 0.03813454881310463\n",
            "Epoch: 19\tLoss: 0.04529283195734024\n",
            "Epoch: 20\tLoss: 0.05193336308002472\n",
            "Epoch: 21\tLoss: 0.03794550150632858\n",
            "Epoch: 22\tLoss: 0.034894559532403946\n",
            "Epoch: 23\tLoss: 0.035154324024915695\n",
            "Epoch: 24\tLoss: 0.03427532687783241\n",
            "Epoch: 25\tLoss: 0.03256966918706894\n",
            "Epoch: 26\tLoss: 0.031027667224407196\n",
            "Epoch: 27\tLoss: 0.031937628984451294\n",
            "Epoch: 28\tLoss: 0.039361994713544846\n",
            "Epoch: 29\tLoss: 0.03368759527802467\n",
            "Epoch: 30\tLoss: 0.03400160372257233\n",
            "Epoch: 31\tLoss: 0.031179634854197502\n",
            "Epoch: 32\tLoss: 0.031351812183856964\n",
            "Epoch: 33\tLoss: 0.03098304569721222\n",
            "Epoch: 34\tLoss: 0.03161900117993355\n",
            "Epoch: 35\tLoss: 0.032535262405872345\n",
            "Epoch: 36\tLoss: 0.03290379419922829\n",
            "Epoch: 37\tLoss: 0.034502193331718445\n",
            "Epoch: 38\tLoss: 0.03361016511917114\n",
            "Epoch: 39\tLoss: 0.03261009603738785\n",
            "Epoch: 40\tLoss: 0.03203520551323891\n",
            "Epoch: 41\tLoss: 0.03210810571908951\n",
            "Epoch: 42\tLoss: 0.03257386013865471\n",
            "Epoch: 43\tLoss: 0.032891612499952316\n",
            "Epoch: 44\tLoss: 0.0327909030020237\n",
            "Epoch: 45\tLoss: 0.03262326493859291\n",
            "Epoch: 46\tLoss: 0.03210804983973503\n",
            "Epoch: 47\tLoss: 0.03182913362979889\n",
            "Epoch: 48\tLoss: 0.031740542501211166\n",
            "Epoch: 49\tLoss: 0.03189379721879959\n",
            "Epoch: 50\tLoss: 0.03211905434727669\n",
            "Epoch: 51\tLoss: 0.03220059722661972\n",
            "Epoch: 52\tLoss: 0.03204962611198425\n",
            "Epoch: 53\tLoss: 0.031759459525346756\n",
            "Epoch: 54\tLoss: 0.031520336866378784\n",
            "Epoch: 55\tLoss: 0.029830222949385643\n",
            "Epoch: 56\tLoss: 0.029884401708841324\n",
            "Epoch: 57\tLoss: 0.02984112687408924\n",
            "Epoch: 58\tLoss: 0.029622290283441544\n",
            "Epoch: 59\tLoss: 0.029344061389565468\n",
            "Epoch: 60\tLoss: 0.029185401275753975\n",
            "Epoch: 61\tLoss: 0.02919173426926136\n",
            "Epoch: 62\tLoss: 0.029233423992991447\n",
            "Epoch: 63\tLoss: 0.029166487976908684\n",
            "Epoch: 64\tLoss: 0.029018662869930267\n",
            "Epoch: 65\tLoss: 0.028950300067663193\n",
            "Epoch: 66\tLoss: 0.029017852619290352\n",
            "Epoch: 67\tLoss: 0.02909380942583084\n",
            "Epoch: 68\tLoss: 0.02906692400574684\n",
            "Epoch: 69\tLoss: 0.028994016349315643\n",
            "Epoch: 70\tLoss: 0.028989868238568306\n",
            "Epoch: 71\tLoss: 0.029049290344119072\n",
            "Epoch: 72\tLoss: 0.02906898967921734\n",
            "Epoch: 73\tLoss: 0.02901402860879898\n",
            "Epoch: 74\tLoss: 0.02895226702094078\n",
            "Epoch: 75\tLoss: 0.028938043862581253\n",
            "Epoch: 76\tLoss: 0.028948621824383736\n",
            "Epoch: 77\tLoss: 0.02893555536866188\n",
            "Epoch: 78\tLoss: 0.028892623260617256\n",
            "Epoch: 79\tLoss: 0.02885410003364086\n",
            "Epoch: 80\tLoss: 0.028843270614743233\n",
            "Epoch: 81\tLoss: 0.02884640358388424\n",
            "Epoch: 82\tLoss: 0.028838537633419037\n",
            "Epoch: 83\tLoss: 0.028817355632781982\n",
            "Epoch: 84\tLoss: 0.028801383450627327\n",
            "Epoch: 85\tLoss: 0.028801865875720978\n",
            "Epoch: 86\tLoss: 0.028808576986193657\n",
            "Epoch: 87\tLoss: 0.028805498033761978\n",
            "Epoch: 88\tLoss: 0.028791775926947594\n",
            "Epoch: 89\tLoss: 0.028779922053217888\n",
            "Epoch: 90\tLoss: 0.028777247294783592\n",
            "Epoch: 91\tLoss: 0.028777219355106354\n",
            "Epoch: 92\tLoss: 0.028770286589860916\n",
            "Epoch: 93\tLoss: 0.028756756335496902\n",
            "Epoch: 94\tLoss: 0.028744792565703392\n",
            "Epoch: 95\tLoss: 0.028738487511873245\n",
            "Epoch: 96\tLoss: 0.028733493760228157\n",
            "Epoch: 97\tLoss: 0.02872471883893013\n",
            "Epoch: 98\tLoss: 0.028713690117001534\n",
            "Epoch: 99\tLoss: 0.028705455362796783\n",
            "Total time for training: 10.402656316757202\n"
          ]
        }
      ],
      "source": [
        "start_time=time.time()\n",
        "for e in range(num_epochs):\n",
        "  y_train_pred = model(x_train)\n",
        "  loss = loss_func(y_train_pred, y_train)\n",
        "  print(f\"Epoch: {e}\\tLoss: {loss.item()}\")\n",
        "  optimizer.zero_grad()\n",
        "  loss.backward()\n",
        "  optimizer.step()\n",
        "elapsed_time = time.time() - start_time\n",
        "print(f\"Total time for training: {elapsed_time}\")"
      ]
    },
    {
      "cell_type": "markdown",
      "metadata": {},
      "source": [
        "## Test Loss"
      ]
    },
    {
      "cell_type": "code",
      "execution_count": 74,
      "metadata": {},
      "outputs": [
        {
          "name": "stdout",
          "output_type": "stream",
          "text": [
            "torch.Size([25, 1]) torch.Size([25, 1])\n",
            "Test\tLoss: 0.043408144265413284\n"
          ]
        }
      ],
      "source": [
        "with torch.no_grad():\r\n",
        "    y_test_pred = model(x_test)\r\n",
        "    print(y_test_pred.shape, y_test.shape)\r\n",
        "    loss = loss_func(y_test_pred, y_test)\r\n",
        "    print(f\"Test\\tLoss: {loss.item()}\")"
      ]
    },
    {
      "cell_type": "code",
      "execution_count": 95,
      "metadata": {},
      "outputs": [
        {
          "data": {
            "image/png": "[encoded data removed]",
            "text/plain": [
              "<Figure size 432x288 with 1 Axes>"
            ]
          },
          "metadata": {
            "needs_background": "light"
          },
          "output_type": "display_data"
        },
        {
          "data": {
            "text/plain": [
              "array([51.73744142, 51.76732241, 51.78286648, 51.79095249, 51.79515883,\n",
              "       51.79734697, 51.79848523, 51.79907736, 51.79938538, 51.79954562,\n",
              "       51.79962897, 51.79967233, 51.79969488, 51.79970662, 51.79971272,\n",
              "       51.7997159 , 51.79971755, 51.79971841, 51.79971886, 51.79971909,\n",
              "       51.79971921, 51.79971927, 51.7997193 , 51.79971932, 51.79971933,\n",
              "       51.79971933, 51.79971934, 51.79971934, 51.79971934, 51.79971934,\n",
              "       51.79971934, 51.79971934, 51.79971934, 51.79971934, 51.79971934,\n",
              "       51.79971934, 51.79971934, 51.79971934, 51.79971934, 51.79971934,\n",
              "       51.79971934, 51.79971934, 51.79971934, 51.79971934, 51.79971934,\n",
              "       51.79971934, 51.79971934, 51.79971934, 51.79971934, 51.79971934,\n",
              "       51.79971934, 51.79971934, 51.79971934, 51.79971934, 51.79971934,\n",
              "       51.79971934, 51.79971934, 51.79971934, 51.79971934, 51.79971934,\n",
              "       51.79971934, 51.79971934, 51.79971934, 51.79971934, 51.79971934,\n",
              "       51.79971934, 51.79971934, 51.79971934, 51.79971934, 51.79971934,\n",
              "       51.79971934, 51.79971934, 51.79971934, 51.79971934, 51.79971934,\n",
              "       51.79971934, 51.79971934, 51.79971934, 51.79971934, 51.79971934,\n",
              "       51.79971934, 51.79971934, 51.79971934, 51.79971934, 51.79971934,\n",
              "       51.79971934, 51.79971934, 51.79971934, 51.79971934, 51.79971934,\n",
              "       51.79971934, 51.79971934, 51.79971934, 51.79971934, 51.79971934,\n",
              "       51.79971934, 51.79971934, 51.79971934, 51.79971934, 51.79971934])"
            ]
          },
          "execution_count": 95,
          "metadata": {},
          "output_type": "execute_result"
        }
      ],
      "source": [
        "from statsmodels.tsa.arima.model import ARIMA\r\n",
        "\r\n",
        "arma_data = df[[\"close\"]].to_numpy().flatten()\r\n",
        "arma_model = ARIMA(arma_data, order=(1,1,1))\r\n",
        "results = arma_model.fit().forecast(steps=100)\r\n",
        "#full_results = np.concatenate((arma_data, results.forecast(steps=10)))\r\n",
        "\r\n",
        "plt.plot(np.arange(len(arma_data)), arma_data)\r\n",
        "\r\n",
        "plt.plot(np.arange(len(arma_data), len(arma_data)+len(results)), results)\r\n",
        "plt.show()\r\n",
        "results\r\n",
        "#pd.DataFrame(results.forecast(steps=10)[0]).plot(title=\"Stock Return Forecast\")"
      ]
    },
    {
      "cell_type": "markdown",
      "metadata": {
        "id": "SlyYq861VV0i"
      },
      "source": [
        "# Prediction for Tomorrow"
      ]
    },
    {
      "cell_type": "code",
      "execution_count": null,
      "metadata": {
        "id": "Lsh-tDsvVUIM"
      },
      "outputs": [],
      "source": [
        "past_actual_price = price_scaler.inverse_transform(y_train)\n",
        "future_actual_price = price_scaler.inverse_transform(y_test)\n",
        "\n",
        "future_prediction_price = price_scaler.inverse_transform(model(x_test).detach().numpy())\n",
        "\n",
        "actual_price = np.vstack((past_actual_price, future_actual_price)).reshape(1, -1)[0]\n",
        "prediction_price = np.vstack((past_actual_price, future_prediction_price)).reshape(1, -1)[0]"
      ]
    },
    {
      "cell_type": "code",
      "execution_count": null,
      "metadata": {
        "colab": {
          "base_uri": "https://localhost:8080/",
          "height": 265
        },
        "id": "My350PGwZ-6G",
        "outputId": "477b3031-0854-4ee6-a719-2ec958c556ed"
      },
      "outputs": [
        {
          "data": {
            "image/png": "[encoded data removed]",
            "text/plain": [
              "<Figure size 432x288 with 1 Axes>"
            ]
          },
          "metadata": {
            "needs_background": "light",
            "tags": []
          },
          "output_type": "display_data"
        }
      ],
      "source": [
        "%matplotlib inline\n",
        "\n",
        "plt.plot(actual_price, label='Actual closing price')\n",
        "plt.plot(prediction_price, ':', label='Predicted closing price')\n",
        "plt.legend();"
      ]
    },
    {
      "cell_type": "code",
      "execution_count": null,
      "metadata": {
        "colab": {
          "base_uri": "https://localhost:8080/"
        },
        "id": "m6uMP70watFp",
        "outputId": "222e59e4-9024-4b05-a87b-b472ef153e18"
      },
      "outputs": [
        {
          "name": "stdout",
          "output_type": "stream",
          "text": [
            "[58.803947 58.800488 58.801086 58.800713 58.79904  58.79649  58.797977\n",
            " 58.799335 58.801502 58.79972  58.808464 58.810875 58.806797 58.808773\n",
            " 58.812725 58.81569  58.814663 58.811035 58.812492 58.815292 58.81507\n",
            " 58.809517 58.811775 58.812725 58.80095 ]\n"
          ]
        }
      ],
      "source": [
        "print(future_prediction_price.reshape(1,-1)[0])"
      ]
    }
  ],
  "metadata": {
    "colab": {
      "name": "Untitled0.ipynb",
      "provenance": []
    },
    "interpreter": {
      "hash": "e3d3bff687f703ad3928cf3e76d3a900c4f06b8bfc69a25eb31bc97c63177b9f"
    },
    "kernelspec": {
      "display_name": "Python 3.8.5 64-bit ('base': conda)",
      "name": "python3"
    },
    "language_info": {
      "codemirror_mode": {
        "name": "ipython",
        "version": 3
      },
      "file_extension": ".py",
      "mimetype": "text/x-python",
      "name": "python",
      "nbconvert_exporter": "python",
      "pygments_lexer": "ipython3",
      "version": "3.8.5"
    }
  },
  "nbformat": 4,
  "nbformat_minor": 0
}